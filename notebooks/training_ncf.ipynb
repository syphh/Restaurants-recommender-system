{
 "cells": [
  {
   "cell_type": "code",
   "execution_count": 1,
   "metadata": {},
   "outputs": [],
   "source": [
    "import pandas as pd\n",
    "import numpy as np\n",
    "import matplotlib.pyplot as plt\n",
    "import seaborn as sns\n",
    "from collections import defaultdict\n",
    "from sklearn.utils import shuffle\n",
    "from keras.models import Model\n",
    "from keras.layers import Input, Embedding, Flatten, Dense, Concatenate\n",
    "from keras.layers import Dropout, BatchNormalization, Activation\n",
    "from keras.regularizers import l2\n",
    "from keras.optimizers import SGD\n",
    "from keras.models import Model\n",
    "from keras.layers import Embedding, Flatten, Input, concatenate, dot, Dense, Dropout, BatchNormalization, multiply, add"
   ]
  },
  {
   "attachments": {},
   "cell_type": "markdown",
   "metadata": {},
   "source": [
    "## Loading and preprocessing data:"
   ]
  },
  {
   "cell_type": "code",
   "execution_count": 2,
   "metadata": {},
   "outputs": [],
   "source": [
    "df_reviews = pd.read_csv(f'../data/reviews.csv')\n",
    "df_restos = pd.read_csv(f'../data/restaurants.csv')\n",
    "df_users = pd.read_csv(f'../data/users.csv')"
   ]
  },
  {
   "cell_type": "code",
   "execution_count": 3,
   "metadata": {},
   "outputs": [],
   "source": [
    "num_users = df_reviews.user_code.max()+1 # number of users\n",
    "num_items = df_reviews.resto_code.max()+1 # number of items"
   ]
  },
  {
   "cell_type": "code",
   "execution_count": 4,
   "metadata": {},
   "outputs": [],
   "source": [
    "# train/test split\n",
    "\n",
    "df_reviews = df_reviews.sort_values(by='time')\n",
    "df_test = df_reviews.groupby('user_id').tail(3)  # put in test set 3 most recent reviews for each user\n",
    "df_train = pd.concat([df_reviews, df_test, df_test]).drop_duplicates(keep=False)"
   ]
  },
  {
   "attachments": {},
   "cell_type": "markdown",
   "metadata": {},
   "source": [
    "## Defining the Neural Collaborative Filtering model:"
   ]
  },
  {
   "cell_type": "code",
   "execution_count": 5,
   "metadata": {},
   "outputs": [],
   "source": [
    "latent_dim = 20\n",
    "\n",
    "# Define inputs\n",
    "item_input = Input(shape=[1],name='item-input')\n",
    "user_input = Input(shape=[1], name='user-input')\n",
    "\n",
    "# MLP Embeddings\n",
    "item_embedding_mlp = Embedding(num_items + 1, latent_dim, name='item-embedding-mlp')(item_input)\n",
    "item_vec_mlp = Flatten(name='flatten-item-mlp')(item_embedding_mlp)\n",
    "\n",
    "user_embedding_mlp = Embedding(num_users + 1, latent_dim, name='user-embedding-mlp')(user_input)\n",
    "user_vec_mlp = Flatten(name='flatten-user-mlp')(user_embedding_mlp)\n",
    "\n",
    "# MF Embeddings\n",
    "item_embedding_mf = Embedding(num_items + 1, latent_dim, name='item-embedding-mf')(item_input)\n",
    "item_vec_mf = Flatten(name='flatten-item-mf')(item_embedding_mf)\n",
    "\n",
    "user_embedding_mf = Embedding(num_users + 1, latent_dim, name='user-embedding-mf')(user_input)\n",
    "user_vec_mf = Flatten(name='flatten-user-mf')(user_embedding_mf)\n",
    "\n",
    "# MLP layers\n",
    "concat = concatenate([item_vec_mlp, user_vec_mlp], name='concat')\n",
    "concat_dropout = Dropout(0.2)(concat)\n",
    "\n",
    "fc_0 = Dense(200, name='fc-0', activation='relu')(concat_dropout)\n",
    "fc_0_bn = BatchNormalization(name='batch-norm-0')(fc_0)\n",
    "fc_0_dropout = Dropout(0.2)(fc_0_bn)\n",
    "\n",
    "fc_1 = Dense(100, name='fc-1', activation='relu')(fc_0_dropout)\n",
    "fc_1_bn = BatchNormalization(name='batch-norm-1')(fc_1)\n",
    "fc_1_dropout = Dropout(0.2)(fc_1_bn)\n",
    "\n",
    "fc_2 = Dense(20, name='fc-2', activation='relu')(fc_1_dropout)\n",
    "fc_2_bn = BatchNormalization(name='batch-norm-2')(fc_2)\n",
    "fc_2_dropout = Dropout(0.2)(fc_2_bn)\n",
    "\n",
    "# Prediction from both layers\n",
    "pred_mlp = Dense(10, name='pred-mlp', activation='relu')(fc_2_dropout)\n",
    "pred_mf = multiply([item_vec_mf, user_vec_mf], name='pred-mf')\n",
    "combine_mlp_mf = concatenate([pred_mf, pred_mlp], name='combine-mlp-mf')\n",
    "\n",
    "# Final prediction\n",
    "result = Dense(1, name='result', activation='relu')(combine_mlp_mf)\n",
    "\n",
    "model = Model([user_input, item_input], result)\n",
    "model.compile(optimizer=SGD(learning_rate=0.01), loss='mean_squared_error', metrics=['mae'])"
   ]
  },
  {
   "cell_type": "code",
   "execution_count": 6,
   "metadata": {},
   "outputs": [
    {
     "name": "stdout",
     "output_type": "stream",
     "text": [
      "Model: \"model\"\n",
      "__________________________________________________________________________________________________\n",
      " Layer (type)                   Output Shape         Param #     Connected to                     \n",
      "==================================================================================================\n",
      " item-input (InputLayer)        [(None, 1)]          0           []                               \n",
      "                                                                                                  \n",
      " user-input (InputLayer)        [(None, 1)]          0           []                               \n",
      "                                                                                                  \n",
      " item-embedding-mlp (Embedding)  (None, 1, 20)       1847300     ['item-input[0][0]']             \n",
      "                                                                                                  \n",
      " user-embedding-mlp (Embedding)  (None, 1, 20)       14013000    ['user-input[0][0]']             \n",
      "                                                                                                  \n",
      " flatten-item-mlp (Flatten)     (None, 20)           0           ['item-embedding-mlp[0][0]']     \n",
      "                                                                                                  \n",
      " flatten-user-mlp (Flatten)     (None, 20)           0           ['user-embedding-mlp[0][0]']     \n",
      "                                                                                                  \n",
      " concat (Concatenate)           (None, 40)           0           ['flatten-item-mlp[0][0]',       \n",
      "                                                                  'flatten-user-mlp[0][0]']       \n",
      "                                                                                                  \n",
      " dropout (Dropout)              (None, 40)           0           ['concat[0][0]']                 \n",
      "                                                                                                  \n",
      " fc-0 (Dense)                   (None, 200)          8200        ['dropout[0][0]']                \n",
      "                                                                                                  \n",
      " batch-norm-0 (BatchNormalizati  (None, 200)         800         ['fc-0[0][0]']                   \n",
      " on)                                                                                              \n",
      "                                                                                                  \n",
      " dropout_1 (Dropout)            (None, 200)          0           ['batch-norm-0[0][0]']           \n",
      "                                                                                                  \n",
      " fc-1 (Dense)                   (None, 100)          20100       ['dropout_1[0][0]']              \n",
      "                                                                                                  \n",
      " batch-norm-1 (BatchNormalizati  (None, 100)         400         ['fc-1[0][0]']                   \n",
      " on)                                                                                              \n",
      "                                                                                                  \n",
      " dropout_2 (Dropout)            (None, 100)          0           ['batch-norm-1[0][0]']           \n",
      "                                                                                                  \n",
      " fc-2 (Dense)                   (None, 20)           2020        ['dropout_2[0][0]']              \n",
      "                                                                                                  \n",
      " item-embedding-mf (Embedding)  (None, 1, 20)        1847300     ['item-input[0][0]']             \n",
      "                                                                                                  \n",
      " user-embedding-mf (Embedding)  (None, 1, 20)        14013000    ['user-input[0][0]']             \n",
      "                                                                                                  \n",
      " batch-norm-2 (BatchNormalizati  (None, 20)          80          ['fc-2[0][0]']                   \n",
      " on)                                                                                              \n",
      "                                                                                                  \n",
      " flatten-item-mf (Flatten)      (None, 20)           0           ['item-embedding-mf[0][0]']      \n",
      "                                                                                                  \n",
      " flatten-user-mf (Flatten)      (None, 20)           0           ['user-embedding-mf[0][0]']      \n",
      "                                                                                                  \n",
      " dropout_3 (Dropout)            (None, 20)           0           ['batch-norm-2[0][0]']           \n",
      "                                                                                                  \n",
      " pred-mf (Multiply)             (None, 20)           0           ['flatten-item-mf[0][0]',        \n",
      "                                                                  'flatten-user-mf[0][0]']        \n",
      "                                                                                                  \n",
      " pred-mlp (Dense)               (None, 10)           210         ['dropout_3[0][0]']              \n",
      "                                                                                                  \n",
      " combine-mlp-mf (Concatenate)   (None, 30)           0           ['pred-mf[0][0]',                \n",
      "                                                                  'pred-mlp[0][0]']               \n",
      "                                                                                                  \n",
      " result (Dense)                 (None, 1)            31          ['combine-mlp-mf[0][0]']         \n",
      "                                                                                                  \n",
      "==================================================================================================\n",
      "Total params: 31,752,441\n",
      "Trainable params: 31,751,801\n",
      "Non-trainable params: 640\n",
      "__________________________________________________________________________________________________\n"
     ]
    }
   ],
   "source": [
    "model.summary()"
   ]
  },
  {
   "attachments": {},
   "cell_type": "markdown",
   "metadata": {},
   "source": [
    "## Training the model:"
   ]
  },
  {
   "cell_type": "code",
   "execution_count": 70,
   "metadata": {},
   "outputs": [
    {
     "name": "stdout",
     "output_type": "stream",
     "text": [
      "Epoch 1/15\n",
      "227412/227412 [==============================] - 446s 2ms/step - loss: 1.1159 - mae: 0.8346 - val_loss: 1.1102 - val_mae: 0.8312\n",
      "Epoch 2/15\n",
      "227412/227412 [==============================] - 426s 2ms/step - loss: 1.0898 - mae: 0.8198 - val_loss: 1.0581 - val_mae: 0.7985\n",
      "Epoch 3/15\n",
      "227412/227412 [==============================] - 477s 2ms/step - loss: 0.9950 - mae: 0.7666 - val_loss: 0.9794 - val_mae: 0.7491\n",
      "Epoch 4/15\n",
      "227412/227412 [==============================] - 459s 2ms/step - loss: 0.9082 - mae: 0.7142 - val_loss: 0.9317 - val_mae: 0.6938\n",
      "Epoch 5/15\n",
      "227412/227412 [==============================] - 411s 2ms/step - loss: 0.8684 - mae: 0.6881 - val_loss: 0.9094 - val_mae: 0.6768\n",
      "Epoch 6/15\n",
      "227412/227412 [==============================] - 400s 2ms/step - loss: 0.8495 - mae: 0.6752 - val_loss: 0.8840 - val_mae: 0.6983\n",
      "Epoch 7/15\n",
      "227412/227412 [==============================] - 376s 2ms/step - loss: 0.8386 - mae: 0.6677 - val_loss: 0.8753 - val_mae: 0.6806\n",
      "Epoch 8/15\n",
      "227412/227412 [==============================] - 394s 2ms/step - loss: 0.8263 - mae: 0.6591 - val_loss: 0.8800 - val_mae: 0.6717\n",
      "Epoch 9/15\n",
      "227412/227412 [==============================] - 376s 2ms/step - loss: 0.8234 - mae: 0.6572 - val_loss: 0.8712 - val_mae: 0.6701\n",
      "Epoch 10/15\n",
      "227412/227412 [==============================] - 402s 2ms/step - loss: 0.8214 - mae: 0.6559 - val_loss: 0.8672 - val_mae: 0.6634\n",
      "Epoch 11/15\n",
      "227412/227412 [==============================] - 390s 2ms/step - loss: 0.8124 - mae: 0.6495 - val_loss: 0.8666 - val_mae: 0.6642\n",
      "Epoch 12/15\n",
      "227412/227412 [==============================] - 395s 2ms/step - loss: 0.8058 - mae: 0.6446 - val_loss: 0.8882 - val_mae: 0.6481\n",
      "Epoch 13/15\n",
      "227412/227412 [==============================] - 380s 2ms/step - loss: 0.8035 - mae: 0.6431 - val_loss: 0.8712 - val_mae: 0.6466\n",
      "Epoch 14/15\n",
      "227412/227412 [==============================] - 374s 2ms/step - loss: 0.8015 - mae: 0.6418 - val_loss: 0.8638 - val_mae: 0.6517\n",
      "Epoch 15/15\n",
      "227412/227412 [==============================] - 386s 2ms/step - loss: 0.7999 - mae: 0.6407 - val_loss: 0.8686 - val_mae: 0.6688\n"
     ]
    },
    {
     "data": {
      "image/png": "[encoded data removed]",
      "text/plain": [
       "<Figure size 432x288 with 1 Axes>"
      ]
     },
     "metadata": {
      "needs_background": "light"
     },
     "output_type": "display_data"
    }
   ],
   "source": [
    "import matplotlib.pyplot as plt\n",
    "from sklearn.metrics import mean_absolute_error\n",
    "history = model.fit([df_train.user_code, df_train.resto_code], df_train.rating, batch_size=64, epochs=15,\n",
    "                    validation_data=([df_test.user_code, df_test.resto_code], df_test.rating), verbose=1)\n",
    "\n",
    "pd.Series(history.history['loss']).plot(logy=True, c='purple')\n",
    "pd.Series(history.history['val_loss']).plot(logy=True, c='orange')\n",
    "plt.xlabel(\"Epoch\")\n",
    "plt.ylabel(\"Train Error\")\n",
    "plt.show()"
   ]
  },
  {
   "cell_type": "code",
   "execution_count": 16,
   "metadata": {},
   "outputs": [],
   "source": [
    "# saving the model\n",
    "model.save('ncf_model.h5')"
   ]
  },
  {
   "attachments": {},
   "cell_type": "markdown",
   "metadata": {},
   "source": [
    "## Using the model to make predictions:"
   ]
  },
  {
   "cell_type": "code",
   "execution_count": 21,
   "metadata": {},
   "outputs": [
    {
     "name": "stdout",
     "output_type": "stream",
     "text": [
      "User 117743287435898944737 for restaurant Las Enchiladas Restaurant\n",
      "1/1 [==============================] - 0s 27ms/step\n",
      "Predicted rating: 3.78\n",
      "True rating: 3.00\n",
      "User 114998415190162973194 for restaurant Taquería El Grullo\n",
      "1/1 [==============================] - 0s 37ms/step\n",
      "Predicted rating: 4.83\n",
      "True rating: 5.00\n",
      "User 105963301480595908847 for restaurant El Pescador\n",
      "1/1 [==============================] - 0s 27ms/step\n",
      "Predicted rating: 4.53\n",
      "True rating: 5.00\n",
      "User 118298202335776142340 for restaurant Lala's Waffles Crepes & Shakes\n",
      "1/1 [==============================] - 0s 25ms/step\n",
      "Predicted rating: 3.32\n",
      "True rating: 3.00\n",
      "User 116235568884589886022 for restaurant Shakey's Pizza Parlor\n",
      "1/1 [==============================] - 0s 24ms/step\n",
      "Predicted rating: 4.54\n",
      "True rating: 5.00\n",
      "User 106827666242459607121 for restaurant Little Caesars Pizza\n",
      "1/1 [==============================] - 0s 21ms/step\n",
      "Predicted rating: 4.52\n",
      "True rating: 5.00\n",
      "User 111181436734386266929 for restaurant Pomme Frite\n",
      "1/1 [==============================] - 0s 23ms/step\n",
      "Predicted rating: 4.16\n",
      "True rating: 4.00\n",
      "User 118433335969580838651 for restaurant Subway\n",
      "1/1 [==============================] - 0s 21ms/step\n",
      "Predicted rating: 4.85\n",
      "True rating: 5.00\n",
      "User 104422152190897412428 for restaurant Yoshi Ramen & Sushi\n",
      "1/1 [==============================] - 0s 26ms/step\n",
      "Predicted rating: 4.15\n",
      "True rating: 5.00\n",
      "User 112673664695444771421 for restaurant Wingstop\n",
      "1/1 [==============================] - 0s 22ms/step\n",
      "Predicted rating: 4.20\n",
      "True rating: 4.00\n"
     ]
    }
   ],
   "source": [
    "# trying the model on random reviews\n",
    "\n",
    "nb_tests = 10\n",
    "for i in range(nb_tests):\n",
    "    rating_row = df_reviews.iloc[np.random.randint(0, len(df_reviews))]\n",
    "    user_code, resto_code, rating = rating_row.user_code, rating_row.resto_code, rating_row.rating\n",
    "    print(f'User {df_users[df_users.user_code == user_code].user_id.values[0]} for restaurant {df_restos[df_restos.resto_code == resto_code].name.values[0]}')\n",
    "    print(f'Predicted rating: {model.predict([np.array([user_code]), np.array([resto_code])])[0][0]:.2f}')\n",
    "    print(f'True rating: {rating:.2f}')\n"
   ]
  }
 ],
 "metadata": {
  "kernelspec": {
   "display_name": "Python 3",
   "language": "python",
   "name": "python3"
  },
  "language_info": {
   "codemirror_mode": {
    "name": "ipython",
    "version": 3
   },
   "file_extension": ".py",
   "mimetype": "text/x-python",
   "name": "python",
   "nbconvert_exporter": "python",
   "pygments_lexer": "ipython3",
   "version": "3.8.1"
  },
  "orig_nbformat": 4
 },
 "nbformat": 4,
 "nbformat_minor": 2
}
